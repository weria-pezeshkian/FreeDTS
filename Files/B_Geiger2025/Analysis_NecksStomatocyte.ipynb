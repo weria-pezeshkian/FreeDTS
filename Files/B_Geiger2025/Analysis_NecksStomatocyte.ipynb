{
 "cells": [
  {
   "cell_type": "code",
   "execution_count": 1,
   "id": "656dbc5d-610a-48db-9bae-127a1030171b",
   "metadata": {},
   "outputs": [],
   "source": [
    "import numpy as np      \n",
    "import trimesh           \n",
    "import pyglet\n",
    "import scipy \n",
    "import pandas as pd\n",
    "#In the following cells we first define several functions needed for the (interactive) analysis of neck diameters & membrane distance"
   ]
  },
  {
   "cell_type": "code",
   "execution_count": 2,
   "id": "c24bfa94-e6e2-4bd5-b095-e06daad7836d",
   "metadata": {},
   "outputs": [],
   "source": [
    "# a function to read a .tsi file and return the vertices, triangles and inclusions\n",
    "def read_sections(file_path):\n",
    "    section_delimiter = \"     \"  # Delimiter of five spaces\n",
    "    \n",
    "    # Initialize lists for each section\n",
    "    section1 = []\n",
    "    section2 = []\n",
    "    section3 = []\n",
    "    \n",
    "    # Flag to indicate the current section being read\n",
    "    current_section = None\n",
    "    \n",
    "    # Read the file\n",
    "    with open(file_path, 'r') as file:\n",
    "        for line in file:\n",
    "            line = line.strip()\n",
    "            \n",
    "            # Identify the section based on the starting word\n",
    "            if line.startswith(\"vertex\"):\n",
    "                current_section = section1\n",
    "                print(line)\n",
    "                continue\n",
    "            elif line.startswith(\"triangle\"):\n",
    "                current_section = section2\n",
    "                print(line)\n",
    "                continue\n",
    "            elif line.startswith(\"inclusion\"):\n",
    "                current_section = section3\n",
    "                print(line)\n",
    "                continue\n",
    "            \n",
    "            # Skip the lines that mark the beginning of each section\n",
    "            if current_section is None:\n",
    "                continue\n",
    "            \n",
    "            # Split the line using the section delimiter\n",
    "            if section_delimiter in line:\n",
    "                entries = line.split(section_delimiter)\n",
    "                # Remove empty entries (caused by consecutive delimiters)\n",
    "                entries = [entry.strip() for entry in entries if entry.strip()]\n",
    "                # Discard the first entry of each section\n",
    "                if entries:\n",
    "                    entries.pop(0)\n",
    "                    # Convert entries based on the current section\n",
    "                    if current_section is section1:\n",
    "                        entries = [float(entry) for entry in entries]\n",
    "                    elif current_section is section2:\n",
    "                        entries = [int(entry) for entry in entries]\n",
    "                    elif current_section is section3:\n",
    "                        entries = [int(entry) if idx < len(entries) - 2 else float(entry) for idx, entry in enumerate(entries)]\n",
    "\n",
    "                current_section.append(entries)\n",
    "    \n",
    "    return section1, section2, section3"
   ]
  },
  {
   "cell_type": "code",
   "execution_count": 3,
   "id": "f4a26ea9-59c2-4ee2-8995-146c517e3f01",
   "metadata": {},
   "outputs": [],
   "source": [
    "#read the size of the simulation box from the input .tsi file\n",
    "def read_box(file_path):\n",
    "    with open(file_path, 'r') as file:\n",
    "        lines = file.readlines()        \n",
    "        second_line = lines[1].strip().split()\n",
    "        # Check if the second line starts with 'box'\n",
    "        if second_line[0] != 'box':\n",
    "            raise ValueError(\"The second line does not start with 'box'.\")\n",
    "        # Convert the remaining elements to floats\n",
    "        box = [float(value) for value in second_line[1:]]\n",
    "        return box"
   ]
  },
  {
   "cell_type": "code",
   "execution_count": 6,
   "id": "c05e0077-55d1-4a82-a869-26f9704b6a7a",
   "metadata": {},
   "outputs": [],
   "source": [
    "#make the mesh in trimesh, show a visualization if prompted\n",
    "def make_mesh(file_path,visualize): #visualize: 'yes'/'no'\n",
    "    vertex,triangle,inclusion = read_sections(file_path) #reads in and prints header of each section\n",
    "    mesh = trimesh.Trimesh(vertices=vertex,faces=triangle)\n",
    "    Newmesh=mesh\n",
    "    if visualize=='yes':\n",
    "        Newmesh.show()\n",
    "    return Newmesh"
   ]
  },
  {
   "cell_type": "code",
   "execution_count": 8,
   "id": "e8d602bc-f1ee-4126-a7e0-e6b48b39812a",
   "metadata": {},
   "outputs": [],
   "source": [
    "#if one wants to compare surface area of inner and outer mesh\n",
    "def inner_outer_area(new_mesh_inner, new_mesh_outer):#area of inner/outer surface\n",
    "    area_in,area_out=new_mesh_inner.area, new_mesh_outer.area #can also use np.sum(mesh.area_faces), same result\n",
    "    print('Area inner surface:',area_in,'Area outer surface:',area_out)\n",
    "    return area_in,area_out"
   ]
  },
  {
   "cell_type": "code",
   "execution_count": 10,
   "id": "435ecd73-7985-4483-b03a-d2df27648e19",
   "metadata": {},
   "outputs": [],
   "source": [
    "#for full vesicles: detect edges of the open mesh (inner or outer), group them into necks\n",
    "def poregroupsNoPBC(new_mesh_outer):\n",
    "    unique_edges = new_mesh_outer.edges[trimesh.grouping.group_rows(new_mesh_outer.edges_sorted, require_count=1)]\n",
    "    edges=unique_edges\n",
    "    groups = []  #empty list to store groups\n",
    "    while len(edges) > 0:\n",
    "        j = edges[0]  # Set j to the first edge of unvisited(=not yet removed) boundary edges\n",
    "        g = [j]  # add the first edge to the current group\n",
    "        edges = np.delete(edges, 0, axis=0)  # Remove the first edge from the array of unvisited boundary edges\n",
    "\n",
    "        while True:\n",
    "            found = False\n",
    "            for i in edges:\n",
    "                if j[0] == i[0] or j[0] == i[1] or j[1] == i[0] or j[1] == i[1]: #if edges touch\n",
    "                    g.append(i)  # Append the current edge to the current group\n",
    "                    edges = np.delete(edges, np.where(np.all(edges == i, axis=1)), axis=0)  # Remove from unvisited edges\n",
    "                    j = i  # Set j to the current edge\n",
    "                    found = True\n",
    "                    break  # Begin again with the new j\n",
    "        \n",
    "            if not found:\n",
    "              #  print('all edges checked, no follower found')\n",
    "                groups.append(g)  # Append the current group to groups\n",
    "                break  # Exit the inner while loop to start a new group with the next remaining edge\n",
    "    print('Number of detected pore groups:',len(groups))\n",
    "    return groups"
   ]
  },
  {
   "cell_type": "code",
   "execution_count": 11,
   "id": "24fdcd05-d84a-473d-8104-7660b1ce760c",
   "metadata": {},
   "outputs": [],
   "source": [
    "#calculate the position/ coordinate (center of mass) of a pore group, i.e. a neck\n",
    "def poreposition(groups,mesh): \n",
    "    vertex_groups=[] #make the groups of edges(noPBC) into groups of vertices\n",
    "    for i in groups:\n",
    "        i=np.array(i)\n",
    "        vertex_groups.append(i.flatten())\n",
    "        \n",
    "    pore_positions=[]\n",
    "    for i in vertex_groups:#go through the groups of vertices, average their position\n",
    "        group_positions=mesh.vertices[i]\n",
    "        position=np.sum(group_positions,axis=0)/len(i)\n",
    "        pore_positions.append(position)\n",
    "            \n",
    "    pore_positions=np.array(pore_positions)\n",
    "    print('Pore positions:',pore_positions)\n",
    "    return pore_positions"
   ]
  },
  {
   "cell_type": "code",
   "execution_count": 12,
   "id": "07d02d69-8bb4-420b-b73d-4d8f931d7e13",
   "metadata": {},
   "outputs": [],
   "source": [
    "#calculate neck diameter from pore groups\n",
    "def poresizeNoPBC(genus,groups,new_mesh_outer): #genus= number of necks\n",
    "    group_diameters=[]\n",
    "    for i in groups:\n",
    "        circumference=0\n",
    "        for j in i:\n",
    "            j=np.array(j) #one edge of the group\n",
    "            v1_index,v2_index=j[0],j[1]\n",
    "            v1,v2=new_mesh_outer.vertices[v1_index],new_mesh_outer.vertices[v2_index]\n",
    "            leng=np.linalg.norm(v1-v2)\n",
    "            circumference=circumference+leng\n",
    "            \n",
    "        group_diameter=circumference/np.pi\n",
    "        group_diameters.append(group_diameter)\n",
    "\n",
    "    if genus==len(groups): \n",
    "        pore_sizes=group_diameters\n",
    "    elif genus<len(groups):#we know that there are groups fragmented\n",
    "        print('Too many necks found -> pore size calc. may be off! Check results, adjust threshold for inner-outer-mesh division.')\n",
    "        pore_sizes=group_diameters\n",
    "    else:\n",
    "        print('Some necks have not been detected or were falsely merged -> pore size calc. may be off! Check results, adjust threshold for inner-outer-mesh division.')\n",
    "        pore_sizes=group_diameters\n",
    "    print('Pore diameters:',pore_sizes)\n",
    "    return pore_sizes"
   ]
  },
  {
   "cell_type": "code",
   "execution_count": null,
   "id": "9c9325c2",
   "metadata": {},
   "outputs": [],
   "source": [
    "#calculate average radius of a membrane/mesh, by the vertices average distance to the center of the box; box center has to be user-adjusted if different boxsize is used or if the mesh is not centered in the box!\n",
    "def mean_vertex_distance(mesh):\n",
    "    # Get the center of mass of the mesh\n",
    "    #center_of_mass = mesh.center_mass\n",
    "\n",
    "    # Get the coordinates of the vertices\n",
    "    vertices = mesh.vertices\n",
    "    \n",
    "    # Calculate the distance from each vertex to the center of mass or box center\n",
    "    #distances = np.linalg.norm(vertices - center_of_mass, axis=1)\n",
    "    distances = np.linalg.norm(vertices - np.array([50.0,50.0,50.0]), axis=1) #box center (50,50,50) has to be user-adjusted if different boxsize is used!\n",
    "    \n",
    "    # Return the mean distance\n",
    "    return np.mean(distances)"
   ]
  },
  {
   "cell_type": "code",
   "execution_count": 992,
   "id": "43598f99-41b8-4b59-b206-87ba3a7bd667",
   "metadata": {},
   "outputs": [],
   "source": [
    "#divide the mesh into inner and outer membrane based on a threshold value for the distance of a vertex to the convex hull of the mesh; this threshold has to be user-adapted at each analysed frame to detect all necks\n",
    "def inner_outer2(Newmesh, visualize,threshold): #threshold should be ca. between 2.0 and 0.7 (for small core sizes, i.e. large mem-distance vs. large core sizes, i.e. small mem-distance)\n",
    "    triangles, vertices = Newmesh.triangles, Newmesh.vertices\n",
    "    convex_hull = mesh.convex_hull\n",
    "    inner,outer_hull= [],[]# Initialize list for indices of inner triangles/triangles in pores and outer ones\n",
    "    for i in range(len(triangles)):\n",
    "        for j in triangles[i]: #go through the vertex positions\n",
    "            closest_point, dist, hit_id = trimesh.proximity.closest_point(convex_hull,[j]) #find the closest point to the current vertex on the convex hull, and the distance between both\n",
    "            if dist>threshold:\n",
    "                inner.append(i)\n",
    "        if i not in inner:\n",
    "            outer_hull.append(i)\n",
    "            \n",
    "\n",
    "    outer_mesh=trimesh.Trimesh(vertices=Newmesh.vertices, faces=Newmesh.faces[outer_hull])\n",
    "    inner_mesh=trimesh.Trimesh(vertices=Newmesh.vertices, faces=Newmesh.faces[inner])\n",
    "\n",
    "    if visualize=='yes':\n",
    "        print('outer hull is shown:')\n",
    "        outer_mesh.show()\n",
    "    return inner_mesh, outer_mesh"
   ]
  },
  {
   "cell_type": "code",
   "execution_count": 1434,
   "id": "6e6a2024-328a-4f5d-b91d-488a9276d3dc",
   "metadata": {},
   "outputs": [
    {
     "name": "stdout",
     "output_type": "stream",
     "text": [
      "vertex                1800\n",
      "triangle                3676\n",
      "inclusion                 180\n"
     ]
    }
   ],
   "source": [
    "#active analysis: read in file, make mesh and divide into inner & outer mesh\n",
    "file='./ExpansionFiles/K10Equil-Pro/TSI506/dts1450.tsi'\n",
    "boxsize=read_box(file)\n",
    "mesh=make_mesh(file, 'noPBC',boxsize,'no')\n",
    "inner_mesh,outer_mesh=inner_outer2(mesh,'no')"
   ]
  },
  {
   "cell_type": "code",
   "execution_count": 1435,
   "id": "047cda1f-4304-477c-9d88-0eb1bbf78ac8",
   "metadata": {},
   "outputs": [],
   "source": [
    "#check inner mesh visually for good neck detection/ if unsure whether threshold was chosen well\n",
    "#inner_mesh.show()"
   ]
  },
  {
   "cell_type": "code",
   "execution_count": null,
   "id": "de84ea31-d6c1-4541-8759-0e2ed9b6fd93",
   "metadata": {},
   "outputs": [],
   "source": [
    "#find groups of vertices lining each neck, their positions, the diameters and print the mean and std of the 21 necks\n",
    "groups=poregroupsNoPBC(outer_mesh)\n",
    "pore_positions=poreposition(groups,mesh)\n",
    "pore_sizes=poresizeNoPBC(20,groups,outer_mesh)\n",
    "print(np.mean(pore_sizes),np.std(pore_sizes))"
   ]
  },
  {
   "cell_type": "code",
   "execution_count": null,
   "id": "9d74bbf2-3467-4a7f-bafa-26ec303fdbb2",
   "metadata": {},
   "outputs": [],
   "source": [
    "#find average radii of inner and outer mesh and save them (add them as the last 2 entries to the array of neck diameters, which is called \"pore_sizes\")\n",
    "#(to later calculate/plot the average membrane distance)\n",
    "mean_distance1 = mean_vertex_distance(inner_mesh)\n",
    "print(f'Mean distance inner mesh from center of box: {mean_distance1}')\n",
    "mean_distance2 = mean_vertex_distance(outer_mesh)\n",
    "print(f'Mean distance outer mesh from center of box: {mean_distance2}')\n",
    "pore_sizes.append(mean_distance1)\n",
    "pore_sizes.append(mean_distance2)"
   ]
  },
  {
   "cell_type": "code",
   "execution_count": 1442,
   "id": "6a2e4ea8-2ad8-48ef-9f98-33a44b829c5f",
   "metadata": {},
   "outputs": [],
   "source": [
    "diameters_to_save=np.array(pore_sizes) #make the list of neck diameters & membrane distance into an array\n",
    "print(np.mean(diameters_to_save[:-2])) #check the average neck diameter one last time\n",
    "np.save('./ExpansionFiles/ResultsK10-EquilPro/Porediameters-K10Pro-pos3-file50.npy', diameters_to_save) #save as a .npy file for later analysis/plots"
   ]
  },
  {
   "cell_type": "code",
   "execution_count": null,
   "id": "bff27db4-af2b-4e78-b6ff-d8f66880e2c8",
   "metadata": {},
   "outputs": [],
   "source": []
  },
  {
   "cell_type": "code",
   "execution_count": null,
   "id": "0bcff80b-ba60-4b24-89f1-0dcb9b8c9538",
   "metadata": {},
   "outputs": [],
   "source": []
  },
  {
   "cell_type": "code",
   "execution_count": null,
   "id": "6f45f67b-8b20-4352-825a-7f4239d9733f",
   "metadata": {},
   "outputs": [],
   "source": []
  }
 ],
 "metadata": {
  "kernelspec": {
   "display_name": "Python 3 (ipykernel)",
   "language": "python",
   "name": "python3"
  },
  "language_info": {
   "codemirror_mode": {
    "name": "ipython",
    "version": 3
   },
   "file_extension": ".py",
   "mimetype": "text/x-python",
   "name": "python",
   "nbconvert_exporter": "python",
   "pygments_lexer": "ipython3",
   "version": "3.12.8"
  }
 },
 "nbformat": 4,
 "nbformat_minor": 5
}
